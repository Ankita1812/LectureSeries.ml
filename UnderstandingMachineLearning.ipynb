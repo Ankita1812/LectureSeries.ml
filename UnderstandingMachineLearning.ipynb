{
 "cells": [
  {
   "cell_type": "markdown",
   "metadata": {},
   "source": [
    "# Understanding Machine Learning\n",
    "\n",
    "### Types of Machine Learning Algorithms\n",
    "- Supervised Learning\n",
    "- Unsupervised Learning\n",
    "- Reinforcement Learning\n",
    "\n",
    "![ML](Images/ML.jpg)\n",
    "\n",
    "### Supervised Learning\n",
    "    The aim is to predict the target/outcome variable.\n",
    "    - Regression\n",
    "    - Classification\n",
    "    Ex- Linear Regression, Logistic Regression\n",
    "   \n",
    "### Unsupervised Learning\n",
    "    In this we do not have any target/outcome variable to predict. Mainly used for clustering popultaion in different groups.\n",
    "    Ex- K-means\n",
    "    \n",
    "### Reinforcement Learining\n",
    "    The machine is made to learn from past experiences, trained to make specific decision.\n",
    "    Ex- Markov Decision Process\n",
    "    \n"
   ]
  },
  {
   "cell_type": "markdown",
   "metadata": {
    "collapsed": true
   },
   "source": [
    "## Linear Regression\n",
    "    Used When target variables are real valued\n",
    "    \n",
    "### Data\n",
    "\n",
    "![Data](Images/Data.jpg)\n",
    "\n",
    "### Scatter\n",
    "![Scatter](Images/Scatter.jpg)\n",
    "\n",
    "### Models\n",
    "\\begin{equation}\n",
    "y(x^i)=\\theta_1*x^i+\\theta_0\n",
    "\\end{equation}\n",
    "![Models](Images/Models.jpg)\n",
    "\n",
    "### Cost\n",
    "\\begin{equation}\n",
    "J(\\theta_1,\\theta_0)=\\frac{1}{2n}\\sum_{i=1}^{n}(y(x^i)-y_{true}^i)^2\n",
    "\\end{equation}\n",
    "\n",
    "### Residuals\n",
    "![Residual](Images/Residual.jpg)\n",
    "\n",
    "### Optimization : Gradient Descent\n",
    "\\begin{equation}\n",
    "\\frac{\\partial J}{\\partial \\theta_1}=\\frac{1}{n}\\sum_{i=1}^{n}(y(x^i)-y_{true}^i)*x^i\\\\\n",
    "\\frac{\\partial J}{\\partial \\theta_0}=\\frac{1}{n}\\sum_{i=1}^{n}(y(x^i)-y_{true}^i)\n",
    "\\end{equation}\n",
    "\n",
    "#### Updating Parameters :\n",
    "\\begin{equation}\n",
    "\\theta_1=\\theta_1-\\alpha*\\frac{\\partial J}{\\partial \\theta_1}\\\\\n",
    "\\theta_0=\\theta_0-\\alpha*\\frac{\\partial J}{\\partial \\theta_0}\n",
    "\\end{equation}\n",
    "\n",
    "![Optimization](Images/Optimization.jpg)"
   ]
  },
  {
   "cell_type": "markdown",
   "metadata": {
    "collapsed": true
   },
   "source": [
    "## K Means Clustering\n",
    "   ### Iterative approach\n",
    "   - Cluster Assignment\n",
    "   - Move centroids\n",
    "   \n",
    "### Assign clusters to selected centroids\n",
    "![Assign Cluster](Images/Centroid.jpg)\n",
    "\n",
    "### Move centroid to the average of clusters\n",
    "![Move Centroids](Images/Shifting.jpg)"
   ]
  },
  {
   "cell_type": "markdown",
   "metadata": {},
   "source": [
    "### References\n",
    "- Common Lounge Machine Learning [https://www.commonlounge.com/discussion/040066e852e04889810c0e82910ad10f](https://www.commonlounge.com/discussion/040066e852e04889810c0e82910ad10f)\n",
    "\n",
    "- AV Basics [https://www.analyticsvidhya.com/blog/2015/06/machine-learning-basics/](https://www.analyticsvidhya.com/blog/2015/06/machine-learning-basics/) \n",
    "\n",
    "- AV Machine Learning Algorithms [https://www.analyticsvidhya.com/blog/2017/09/common-machine-learning-algorithms/](https://www.analyticsvidhya.com/blog/2017/09/common-machine-learning-algorithms/)\n",
    "\n",
    "- K-means Explaination [http://bigdata-madesimple.com/possibly-the-simplest-way-to-explain-k-means-algorithm/](http://bigdata-madesimple.com/possibly-the-simplest-way-to-explain-k-means-algorithm/)"
   ]
  },
  {
   "cell_type": "markdown",
   "metadata": {},
   "source": [
    "### Additional Resources\n",
    "- Andrew Ng Coursera [https://www.coursera.org/learn/machine-learning Andrew Ng Coursera](https://www.coursera.org/learn/machine-learning Andrew Ng Coursera)"
   ]
  }
 ],
 "metadata": {
  "anaconda-cloud": {},
  "kernelspec": {
   "display_name": "Python [conda root]",
   "language": "python",
   "name": "conda-root-py"
  },
  "language_info": {
   "codemirror_mode": {
    "name": "ipython",
    "version": 2
   },
   "file_extension": ".py",
   "mimetype": "text/x-python",
   "name": "python",
   "nbconvert_exporter": "python",
   "pygments_lexer": "ipython2",
   "version": "2.7.12"
  }
 },
 "nbformat": 4,
 "nbformat_minor": 1
}
